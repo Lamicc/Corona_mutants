{
 "cells": [
  {
   "cell_type": "code",
   "execution_count": 1,
   "metadata": {
    "collapsed": false
   },
   "outputs": [
    {
     "name": "stdout",
     "output_type": "stream",
     "text": [
      "Sample is filtered:  EPI_ISL_419707 2020 hCoV-19/Spain/Cataluna201397/2020|EPI_ISL_419707|2020\n",
      "Sample is filtered:  EPI_ISL_413585 2020 hCoV-19/Netherlands/Tilburg_/2020|EPI_ISL_413585|2020\n",
      "Sample is filtered:  EPI_ISL_424248 202003 hCoV-19/USA/UNKNOWN-UW-1773/2020|EPI_ISL_424248|2020-03\n",
      "Sample is filtered:  EPI_ISL_413711 202002 hCoV-19/China/WF0014/2020|EPI_ISL_413711|2020-02\n",
      "Sample is filtered:  EPI_ISL_420850 202003 hCoV-19/DRC/352/2020|EPI_ISL_420850|2020-03\n",
      "Sample is filtered:  EPI_ISL_420848 202003 hCoV-19/DRC/445/2020|EPI_ISL_420848|2020-03\n",
      "Sample is filtered:  EPI_ISL_420844 202003 hCoV-19/DRC/355/2020|EPI_ISL_420844|2020-03\n",
      "Sample is filtered:  EPI_ISL_420846 202003 hCoV-19/DRC/400/2020|EPI_ISL_420846|2020-03\n",
      "Sample is filtered:  EPI_ISL_420843 202003 hCoV-19/DRC/353/2020|EPI_ISL_420843|2020-03\n",
      "Sample is filtered:  EPI_ISL_420842 202003 hCoV-19/DRC/307/2020|EPI_ISL_420842|2020-03\n",
      "Sample is filtered:  EPI_ISL_423023 202003 hCoV-19/USA/UNKNOWN-UW-1449/2020|EPI_ISL_423023|2020-03\n",
      "Sample is filtered:  EPI_ISL_424354 202004 hCoV-19/USA/NC_200189/2020|EPI_ISL_424354|2020-04\n",
      "Sample is filtered:  EPI_ISL_413691 202001 hCoV-19/China/WF0001/2020|EPI_ISL_413691|2020-01\n",
      "Sample is filtered:  EPI_ISL_413692 202001 hCoV-19/China/WF0002/2020|EPI_ISL_413692|2020-01\n",
      "Sample is filtered:  EPI_ISL_413693 202001 hCoV-19/China/WF0003/2020|EPI_ISL_413693|2020-01\n",
      "Sample is filtered:  EPI_ISL_413694 202001 hCoV-19/China/WF0004/2020|EPI_ISL_413694|2020-01\n",
      "Sample is filtered:  EPI_ISL_413697 202002 hCoV-19/China/WF0012/2020|EPI_ISL_413697|2020-02\n",
      "Sample is filtered:  EPI_ISL_424376 202003 hCoV-19/Iceland/352/2020|EPI_ISL_424376|2020-03\n",
      "Sample is filtered:  EPI_ISL_424375 202003 hCoV-19/Iceland/351/2020|EPI_ISL_424375|2020-03\n",
      "Sample is filtered:  EPI_ISL_424374 202003 hCoV-19/Iceland/350/2020|EPI_ISL_424374|2020-03\n",
      "Sample is filtered:  EPI_ISL_424373 202003 hCoV-19/Iceland/349/2020|EPI_ISL_424373|2020-03\n",
      "Sample is filtered:  EPI_ISL_424372 202003 hCoV-19/Iceland/348/2020|EPI_ISL_424372|2020-03\n",
      "Sample is filtered:  EPI_ISL_424371 202003 hCoV-19/Iceland/347/2020|EPI_ISL_424371|2020-03\n",
      "Sample is filtered:  EPI_ISL_424370 202003 hCoV-19/Iceland/346/2020|EPI_ISL_424370|2020-03\n",
      "Sample is filtered:  EPI_ISL_424369 202003 hCoV-19/Iceland/345/2020|EPI_ISL_424369|2020-03\n",
      "Sample is filtered:  EPI_ISL_424368 202003 hCoV-19/Iceland/344/2020|EPI_ISL_424368|2020-03\n",
      "Sample is filtered:  EPI_ISL_424367 202003 hCoV-19/Iceland/343/2020|EPI_ISL_424367|2020-03\n",
      "Sample is filtered:  EPI_ISL_420550 2020 hCoV-19/India/2020773/2020|EPI_ISL_420550|2020\n",
      "Sample is filtered:  EPI_ISL_420552 2020 hCoV-19/India/2020777/2020|EPI_ISL_420552|2020\n",
      "Sample is filtered:  EPI_ISL_420548 2020 hCoV-19/India/2020772/2020|EPI_ISL_420548|2020\n",
      "Sample is filtered:  EPI_ISL_420544 2020 hCoV-19/India/2020763/2020|EPI_ISL_420544|2020\n",
      "Sample is filtered:  EPI_ISL_420546 2020 hCoV-19/India/2020770/2020|EPI_ISL_420546|2020\n",
      "Sample is filtered:  EPI_ISL_420540 202003 hCoV-19/Estonia/ChVir2148/2020|EPI_ISL_420540|2020-03\n",
      "Sample is filtered:  EPI_ISL_418250 2020 hCoV-19/Spain/Cataluna201396/2020|EPI_ISL_418250|2020\n",
      "Sample is filtered:  EPI_ISL_420554 2020 hCoV-19/India/2020781/2020|EPI_ISL_420554|2020\n",
      "Sample is filtered:  EPI_ISL_420556 2020 hCoV-19/India/2020c32/2020|EPI_ISL_420556|2020\n",
      "Sample is filtered:  EPI_ISL_418344 2020 hCoV-19/Canada/ON_PHL2259/2020|EPI_ISL_418344|2020\n",
      "Sample is filtered:  EPI_ISL_419693 202003 hCoV-19/Belarus/ChVir2073/2020|EPI_ISL_419693|2020-03\n",
      "Sample is filtered:  EPI_ISL_419692 202003 hCoV-19/Belarus/ChVir2072/2020|EPI_ISL_419692|2020-03\n",
      "Sample is filtered:  EPI_ISL_419691 202003 hCoV-19/Latvia/ChVir2025/2020|EPI_ISL_419691|2020-03\n",
      "Sample is filtered:  EPI_ISL_418384 2020 hCoV-19/Canada/ON_PHL2294/2020|EPI_ISL_418384|2020\n",
      "Sample is filtered:  EPI_ISL_418383 2020 hCoV-19/Canada/ON_PHL2273/2020|EPI_ISL_418383|2020\n",
      "Sample is filtered:  EPI_ISL_418382 2020 hCoV-19/Canada/ON_PHL5930/2020|EPI_ISL_418382|2020\n",
      "Sample is filtered:  EPI_ISL_418381 2020 hCoV-19/Canada/ON_PHL2223/2020|EPI_ISL_418381|2020\n",
      "Sample is filtered:  EPI_ISL_418380 2020 hCoV-19/Canada/ON_PHL3476/2020|EPI_ISL_418380|2020\n",
      "Sample is filtered:  EPI_ISL_424189 202003 hCoV-19/USA/UNKNOWN-UW-Not_found/2020|EPI_ISL_424189|2020-03\n",
      "Sample is filtered:  EPI_ISL_413809 202002 hCoV-19/China/WF0029/2020|EPI_ISL_413809|2020-02\n",
      "Sample is filtered:  EPI_ISL_413729 202002 hCoV-19/China/WF0015/2020|EPI_ISL_413729|2020-02\n",
      "Sample is filtered:  EPI_ISL_413750 202002 hCoV-19/China/WF0020/2020|EPI_ISL_413750|2020-02\n",
      "Sample is filtered:  EPI_ISL_413751 202002 hCoV-19/China/WF0021/2020|EPI_ISL_413751|2020-02\n",
      "Sample is filtered:  EPI_ISL_413752 202002 hCoV-19/China/WF0023/2020|EPI_ISL_413752|2020-02\n",
      "Sample is filtered:  EPI_ISL_413753 202002 hCoV-19/China/WF0024/2020|EPI_ISL_413753|2020-02\n",
      "Sample is filtered:  EPI_ISL_413746 202002 hCoV-19/China/WF0016/2020|EPI_ISL_413746|2020-02\n",
      "Sample is filtered:  EPI_ISL_413748 202002 hCoV-19/China/WF0018/2020|EPI_ISL_413748|2020-02\n",
      "Sample is filtered:  EPI_ISL_413749 202002 hCoV-19/China/WF0019/2020|EPI_ISL_413749|2020-02\n",
      "Sample is filtered:  EPI_ISL_413791 202002 hCoV-19/China/WF0028/2020|EPI_ISL_413791|2020-02\n",
      "Sample is filtered:  EPI_ISL_424594 202003 hCoV-19/Iceland/574/2020|EPI_ISL_424594|2020-03\n",
      "Sample is filtered:  EPI_ISL_424534 202003 hCoV-19/Iceland/512/2020|EPI_ISL_424534|2020-03\n",
      "Sample is filtered:  EPI_ISL_424549 202003 hCoV-19/Iceland/528/2020|EPI_ISL_424549|2020-03\n",
      "Sample is filtered:  EPI_ISL_424548 202003 hCoV-19/Iceland/527/2020|EPI_ISL_424548|2020-03\n",
      "Sample is filtered:  EPI_ISL_424547 202003 hCoV-19/Iceland/526/2020|EPI_ISL_424547|2020-03\n",
      "Sample is filtered:  EPI_ISL_424542 202003 hCoV-19/Iceland/521/2020|EPI_ISL_424542|2020-03\n",
      "Sample is filtered:  EPI_ISL_424541 202003 hCoV-19/Iceland/520/2020|EPI_ISL_424541|2020-03\n",
      "Sample is filtered:  EPI_ISL_424540 202003 hCoV-19/Iceland/519/2020|EPI_ISL_424540|2020-03\n",
      "Sample is filtered:  EPI_ISL_415494 2020 hCoV-19/Netherlands/NA_5/2020|EPI_ISL_415494|2020\n",
      "Sample is filtered:  EPI_ISL_415493 2020 hCoV-19/Netherlands/NA_4/2020|EPI_ISL_415493|2020\n",
      "Sample is filtered:  EPI_ISL_411929 202001 hCoV-19/South_Korea/SNU01/2020|EPI_ISL_411929|2020-01\n",
      "Sample is filtered:  EPI_ISL_416742 202002 hCoV-19/Czech_Republic/ChVir1630/2020|EPI_ISL_416742|2020-02\n",
      "Sample is filtered:  EPI_ISL_416743 202003 hCoV-19/Czech_Republic/ChVir1912/2020|EPI_ISL_416743|2020-03\n",
      "Sample is filtered:  EPI_ISL_416741 202002 hCoV-19/Lithuania/ChVir1632/2020|EPI_ISL_416741|2020-02\n",
      "Sample is filtered:  EPI_ISL_402131 20130724 hCoV-19/bat/Yunnan/RaTG13/2013|EPI_ISL_402131|2013-07-24\n",
      "Sample is filtered:  EPI_ISL_415464 2020 hCoV-19/Netherlands/Limburg_7/2020|EPI_ISL_415464|2020\n",
      "Sample is filtered:  EPI_ISL_424863 202003 hCoV-19/USA/GA_2185/2020|EPI_ISL_424863|2020-03\n",
      "Sample is filtered:  EPI_ISL_424862 202003 hCoV-19/USA/GA_2120/2020|EPI_ISL_424862|2020-03\n",
      "Sample is filtered:  EPI_ISL_424860 202003 hCoV-19/USA/GA_2055/2020|EPI_ISL_424860|2020-03\n",
      "Sample is filtered:  EPI_ISL_424987 202004 hCoV-19/USA/NC_200181/2020|EPI_ISL_424987|2020-04\n",
      "Sample is filtered:  EPI_ISL_424983 202004 hCoV-19/USA/NC_200191/2020|EPI_ISL_424983|2020-04\n",
      "Sample is filtered:  EPI_ISL_422968 202003 hCoV-19/USA/UNKNOWN-UW-1331/2020|EPI_ISL_422968|2020-03\n",
      "Sample is filtered:  EPI_ISL_422900 2020 hCoV-19/Netherlands/Utrecht_23/2020|EPI_ISL_422900|2020\n",
      "Sample is filtered:  EPI_ISL_414543 202003 hCoV-19/Netherlands/NoordBrabant_34/2020|EPI_ISL_414543|2020-03\n",
      "Sample is filtered:  EPI_ISL_414542 202003 hCoV-19/Netherlands/NoordBrabant_33/2020|EPI_ISL_414542|2020-03\n",
      "Sample is filtered:  EPI_ISL_414511 202001 hCoV-19/Japan/TKYE6182/2020|EPI_ISL_414511|2020-01\n",
      "Sample is filtered:  EPI_ISL_415522 2020 hCoV-19/Netherlands/NoordBrabant_66/2020|EPI_ISL_415522|2020\n",
      "Sample is filtered:  EPI_ISL_415521 2020 hCoV-19/Netherlands/NoordBrabant_65/2020|EPI_ISL_415521|2020\n",
      "Sample is filtered:  EPI_ISL_415517 2020 hCoV-19/Netherlands/NoordBrabant_61/2020|EPI_ISL_415517|2020\n",
      "Sample is filtered:  EPI_ISL_415509 2020 hCoV-19/Netherlands/NoordBrabant_53/2020|EPI_ISL_415509|2020\n",
      "Sample is filtered:  EPI_ISL_420067 202003 hCoV-19/Estonia/ChVir1985/2020|EPI_ISL_420067|2020-03\n",
      "Sample is filtered:  EPI_ISL_420066 202003 hCoV-19/Estonia/ChVir1983/2020|EPI_ISL_420066|2020-03\n",
      "Sample is filtered:  EPI_ISL_422884 2020 hCoV-19/Netherlands/NoordBrabant_90/2020|EPI_ISL_422884|2020\n",
      "Sample is filtered:  EPI_ISL_422882 2020 hCoV-19/Netherlands/NoordBrabant_88/2020|EPI_ISL_422882|2020\n",
      "Sample is filtered:  EPI_ISL_422883 2020 hCoV-19/Netherlands/NoordBrabant_89/2020|EPI_ISL_422883|2020\n",
      "\n",
      "Number of filtered samples:  91\n",
      "\n",
      "Remaining number of samples:  7208\n",
      "\n",
      "Sorting the dates\n",
      "20191224 \t EPI_ISL_402123\n",
      "20191226 \t EPI_ISL_406798\n",
      "20191230 \t EPI_ISL_403931\n",
      "20191230 \t EPI_ISL_402128\n",
      "20191230 \t EPI_ISL_402127\n",
      "20191230 \t EPI_ISL_402121\n",
      "20191230 \t EPI_ISL_402132\n",
      "20191230 \t EPI_ISL_402130\n",
      "20191230 \t EPI_ISL_402129\n",
      "20191230 \t EPI_ISL_403930\n",
      "20191230 \t EPI_ISL_403929\n",
      "20191230 \t EPI_ISL_412898\n",
      "20191230 \t EPI_ISL_412900\n",
      "20191231 \t EPI_ISL_406799\n",
      "20191231 \t EPI_ISL_402125\n",
      "20200101 \t EPI_ISL_403928\n",
      "20200101 \t EPI_ISL_402120\n",
      "20200101 \t EPI_ISL_406800\n",
      "20200102 \t EPI_ISL_406716\n",
      "20200105 \t EPI_ISL_406801\n",
      "20200108 \t EPI_ISL_412459\n",
      "20200108 \t EPI_ISL_411957\n",
      "20200108 \t EPI_ISL_403962\n",
      "20200110 \t EPI_ISL_406030\n",
      "20200111 \t EPI_ISL_405839\n",
      "20200111 \t EPI_ISL_408486\n",
      "20200111 \t EPI_ISL_421252\n",
      "20200113 \t EPI_ISL_406593\n",
      "20200113 \t EPI_ISL_410301\n",
      "20200113 \t EPI_ISL_406592\n"
     ]
    }
   ],
   "source": [
    "import numpy as np\n",
    "from Bio import SeqIO\n",
    "filename = 'data/2020-04-16/gisaid_cov2020.human_bat.ali.fasta'\n",
    "\n",
    "samples = list(SeqIO.parse(filename, \"fasta\"))\n",
    "num_samples = len(samples)\n",
    "\n",
    "num_filtered = 0\n",
    "sample_ids = []\n",
    "sample_dates = []\n",
    "    \n",
    "for sample in samples:\n",
    "    #print(sample.id)\n",
    "    _, sample_name, sample_date = sample.id.split(\"|\")\n",
    "    sample_date = sample_date.replace(\"-\", \"\")\n",
    "    \n",
    "    # Filter out if the date is incomplete or before 20191224\n",
    "    if len(sample_date)==8 and int(sample_date)>=20191212:\n",
    "        sample_ids.append(sample_name)\n",
    "        sample_dates.append(int(sample_date))\n",
    "    else:\n",
    "        print(\"Sample is filtered: \", sample_name, sample_date, sample.id)\n",
    "        num_filtered = num_filtered + 1\n",
    "num_samples = len(sample_dates)     \n",
    "    \n",
    "print(\"\\nNumber of filtered samples: \", num_filtered)\n",
    "print(\"\\nRemaining number of samples: \", num_samples)\n",
    "\n",
    "# Sort w.r.t dates in increasing order\n",
    "print(\"\\nSorting the dates\")\n",
    "sorted_idx = np.argsort(sample_dates)\n",
    "sample_dates = np.array(sample_dates)[sorted_idx]\n",
    "sample_ids = np.array(sample_ids)[sorted_idx]\n",
    "\n",
    "for id_ in range(30):\n",
    "    print(sample_dates[id_], \"\\t\", sample_ids[id_])"
   ]
  },
  {
   "cell_type": "code",
   "execution_count": 2,
   "metadata": {
    "collapsed": false,
    "scrolled": true
   },
   "outputs": [
    {
     "name": "stdout",
     "output_type": "stream",
     "text": [
      "20191224 1\n",
      "20191226 1\n",
      "20191230 11\n",
      "20191231 2\n",
      "20200101 3\n",
      "20200102 1\n",
      "20200105 1\n",
      "20200108 3\n",
      "20200110 1\n",
      "20200111 3\n",
      "20200113 4\n",
      "20200115 3\n",
      "20200116 3\n",
      "20200117 4\n",
      "20200118 5\n",
      "20200119 3\n",
      "20200120 4\n",
      "20200121 14\n",
      "20200122 16\n",
      "20200123 15\n",
      "20200124 12\n",
      "20200125 18\n",
      "20200126 6\n",
      "20200127 8\n",
      "20200128 16\n",
      "20200129 24\n",
      "20200130 26\n",
      "20200131 12\n",
      "20200201 27\n",
      "20200202 22\n",
      "20200203 10\n",
      "20200204 12\n",
      "20200205 19\n",
      "20200206 12\n",
      "20200207 10\n",
      "20200208 13\n",
      "20200209 14\n",
      "20200210 14\n",
      "20200211 6\n",
      "20200212 4\n",
      "20200213 5\n",
      "20200214 2\n",
      "20200215 17\n",
      "20200216 19\n",
      "20200217 36\n",
      "20200218 3\n",
      "20200219 4\n",
      "20200220 11\n",
      "20200221 6\n",
      "20200222 6\n",
      "20200223 8\n",
      "20200224 15\n",
      "20200225 20\n",
      "20200226 25\n",
      "20200227 42\n",
      "20200228 64\n",
      "20200229 52\n",
      "20200301 70\n",
      "20200302 108\n",
      "20200303 113\n",
      "20200304 122\n",
      "20200305 127\n",
      "20200306 127\n",
      "20200307 75\n",
      "20200308 98\n",
      "20200309 141\n",
      "20200310 159\n",
      "20200311 173\n",
      "20200312 184\n",
      "20200313 235\n",
      "20200314 168\n",
      "20200315 147\n",
      "20200316 238\n",
      "20200317 355\n",
      "20200318 422\n",
      "20200319 350\n",
      "20200320 362\n",
      "20200321 260\n",
      "20200322 242\n",
      "20200323 367\n",
      "20200324 326\n",
      "20200325 276\n",
      "20200326 179\n",
      "20200327 290\n",
      "20200328 171\n",
      "20200329 133\n",
      "20200330 161\n",
      "20200331 140\n",
      "20200401 100\n",
      "20200402 32\n",
      "20200403 17\n",
      "20200404 6\n",
      "20200405 14\n",
      "20200406 2\n"
     ]
    }
   ],
   "source": [
    "date_keys = sorted(np.unique(sample_dates))\n",
    "date_occurrence = np.zeros(len(date_keys)).astype(int)\n",
    "\n",
    "for date in sample_dates:\n",
    "    pos = date_keys.index(date)\n",
    "    date_occurrence[pos] = date_occurrence[pos] + 1\n",
    "    \n",
    "for i in range(len(date_keys)):\n",
    "    print(date_keys[i], date_occurrence[i])"
   ]
  },
  {
   "cell_type": "code",
   "execution_count": 3,
   "metadata": {
    "collapsed": false
   },
   "outputs": [
    {
     "data": {
      "image/png": "[encoded data removed]",
      "text/plain": [
       "<matplotlib.figure.Figure at 0x10cf19400>"
      ]
     },
     "metadata": {},
     "output_type": "display_data"
    }
   ],
   "source": [
    "import matplotlib.pyplot as plt\n",
    "%matplotlib inline\n",
    "\n",
    "plt.figure(figsize=(20, 5))\n",
    "plt.bar(np.arange(len(date_occurrence)), date_occurrence)\n",
    "plt.title(\"Bar Plot of Submission Dates\")\n",
    "plt.xlabel(\"Dates\")\n",
    "plt.xticks(np.arange(len(date_occurrence)), date_keys, rotation=90)\n",
    "plt.show()"
   ]
  },
  {
   "cell_type": "code",
   "execution_count": 4,
   "metadata": {
    "collapsed": false
   },
   "outputs": [
    {
     "data": {
      "text/plain": [
       "94"
      ]
     },
     "execution_count": 4,
     "metadata": {},
     "output_type": "execute_result"
    }
   ],
   "source": [
    "len(date_occurrence)"
   ]
  },
  {
   "cell_type": "code",
   "execution_count": 24,
   "metadata": {
    "collapsed": false
   },
   "outputs": [
    {
     "data": {
      "text/plain": [
       "0"
      ]
     },
     "execution_count": 24,
     "metadata": {},
     "output_type": "execute_result"
    }
   ],
   "source": [
    "date_keys.index(20191224)"
   ]
  },
  {
   "cell_type": "code",
   "execution_count": 37,
   "metadata": {
    "collapsed": false
   },
   "outputs": [
    {
     "data": {
      "image/png": "[encoded data removed]",
      "text/plain": [
       "<matplotlib.figure.Figure at 0x124328630>"
      ]
     },
     "metadata": {},
     "output_type": "display_data"
    }
   ],
   "source": [
    "import matplotlib.pyplot as plt\n",
    "%matplotlib inline\n",
    "\n",
    "plt.figure(figsize=(5, 2))\n",
    "plt.bar(np.arange(len(date_occurrence)), date_occurrence)\n",
    "plt.axvline(81, 0, 1, label='Date Cut', color='r', linewidth=2)\n",
    "plt.title(\"Number of Samples Submitted to GISAID\")\n",
    "plt.xlabel(\"Dates\")\n",
    "plt.ylabel(\"Number of Samples\")\n",
    "plt.xlim([0, len(date_occurrence)])\n",
    "#plt.xticks(np.arange(len(date_occurrence)), date_keys, rotation=90)\n",
    "plt.xticks([4,28,57,88], ['Jan 1', 'Feb 1', 'Mar 1', 'Apr 1'])\n",
    "plt.legend(loc='upper left')\n",
    "plt.show()"
   ]
  },
  {
   "cell_type": "code",
   "execution_count": 4,
   "metadata": {
    "collapsed": false
   },
   "outputs": [
    {
     "data": {
      "text/plain": [
       "array([  1,   1,  11,   2,   3,   1,   1,   3,   1,   3,   4,   3,   3,\n",
       "         4,   5,   3,   4,  14,  16,  15,  12,  18,   6,   8,  16,  24,\n",
       "        26,  12,  27,  22,  10,  12,  19,  12,  10,  13,  14,  14,   6,\n",
       "         4,   5,   2,  17,  19,  36,   3,   4,  11,   6,   6,   8,  15,\n",
       "        20,  25,  42,  64,  52,  70, 108, 113, 122, 127, 127,  75,  98,\n",
       "       141, 159, 173, 184, 235, 168, 147, 238, 355, 422, 350, 362, 260,\n",
       "       242, 367, 326, 276, 179, 290, 171, 133, 161, 140, 100,  32,  17,\n",
       "         6,  14,   2])"
      ]
     },
     "execution_count": 4,
     "metadata": {},
     "output_type": "execute_result"
    }
   ],
   "source": [
    "date_occurrence"
   ]
  },
  {
   "cell_type": "code",
   "execution_count": 5,
   "metadata": {
    "collapsed": false
   },
   "outputs": [
    {
     "data": {
      "text/plain": [
       "array([   1,    2,   13,   15,   18,   19,   20,   23,   24,   27,   31,\n",
       "         34,   37,   41,   46,   49,   53,   67,   83,   98,  110,  128,\n",
       "        134,  142,  158,  182,  208,  220,  247,  269,  279,  291,  310,\n",
       "        322,  332,  345,  359,  373,  379,  383,  388,  390,  407,  426,\n",
       "        462,  465,  469,  480,  486,  492,  500,  515,  535,  560,  602,\n",
       "        666,  718,  788,  896, 1009, 1131, 1258, 1385, 1460, 1558, 1699,\n",
       "       1858, 2031, 2215, 2450, 2618, 2765, 3003, 3358, 3780, 4130, 4492,\n",
       "       4752, 4994, 5361, 5687, 5963, 6142, 6432, 6603, 6736, 6897, 7037,\n",
       "       7137, 7169, 7186, 7192, 7206, 7208])"
      ]
     },
     "execution_count": 5,
     "metadata": {},
     "output_type": "execute_result"
    }
   ],
   "source": [
    "date_cumulative = np.cumsum(date_occurrence)\n",
    "date_cumulative"
   ]
  },
  {
   "cell_type": "code",
   "execution_count": 6,
   "metadata": {
    "collapsed": false
   },
   "outputs": [
    {
     "name": "stdout",
     "output_type": "stream",
     "text": [
      "Index to separate train and test sets:  81 \tDate:  20200325 \tCount:  5963\n"
     ]
    }
   ],
   "source": [
    "train_perc = 0.8\n",
    "cut_idx = np.where(date_cumulative>=train_perc*num_samples)[0][0]\n",
    "print(\"Index to separate train and test sets: \", cut_idx, \"\\tDate: \", date_keys[cut_idx], \"\\tCount: \", date_cumulative[cut_idx])"
   ]
  },
  {
   "cell_type": "code",
   "execution_count": 7,
   "metadata": {
    "collapsed": false
   },
   "outputs": [
    {
     "name": "stdout",
     "output_type": "stream",
     "text": [
      "\n",
      "Number of training samples: \t 5963\n",
      "Number of test samples: \t 1245\n"
     ]
    }
   ],
   "source": [
    "date_cut = date_keys[cut_idx]\n",
    "\n",
    "train_samples = {}\n",
    "test_samples = {}\n",
    "\n",
    "for sample in samples:\n",
    "    _, sample_name, sample_date = sample.id.split(\"|\")\n",
    "    sample_date = sample_date.replace(\"-\", \"\")\n",
    "    \n",
    "    # Filter out if the date is incomplete or before 20191224\n",
    "    if len(sample_date)==8 and int(sample_date)>=20191212:\n",
    "        \n",
    "        # Decide if train or test\n",
    "        if int(sample_date) <= date_cut:\n",
    "            train_samples[sample_name] = sample.seq\n",
    "        else:\n",
    "            test_samples[sample_name] = sample.seq\n",
    "\n",
    "num_training = len(list(train_samples.keys()))\n",
    "num_test = len(list(test_samples.keys()))\n",
    "print(\"\\nNumber of training samples: \\t\", num_training)\n",
    "print(\"Number of test samples: \\t\", num_test)"
   ]
  },
  {
   "cell_type": "code",
   "execution_count": 8,
   "metadata": {
    "collapsed": true
   },
   "outputs": [],
   "source": [
    "def seq_one_hot(sequence, characters):\n",
    "    \"\"\"One-hot encode a sequence of characters. Each column is one character.\"\"\"\n",
    "    # Create dictionary linking characters to indices\n",
    "    char_to_ind = dict(zip(characters, range(len(characters))))\n",
    "    # Set up matrix of zeros\n",
    "    M = np.zeros((len(characters),len(sequence)))\n",
    "    # Iterate over tuples of character index and sequence index\n",
    "    for i in zip([char_to_ind[c[0]] for c in sequence], range(len(sequence))):\n",
    "        # Set cell corresponding to character to one\n",
    "        M[i[0],i[1]] = 1\n",
    "    # Return finished one-hot encoding\n",
    "    return M"
   ]
  },
  {
   "cell_type": "code",
   "execution_count": 20,
   "metadata": {
    "collapsed": true
   },
   "outputs": [],
   "source": [
    "def seq_no_hot(sequence, characters):\n",
    "    \"\"\"One-hot encode a sequence of characters. Each column is one character.\"\"\"\n",
    "    # Create dictionary linking characters to indices\n",
    "    char_to_ind = dict(zip(characters, range(len(characters))))\n",
    "    # Set up matrix of zeros\n",
    "    M = np.zeros((1,len(sequence)))\n",
    "    # Iterate over tuples of character index and sequence index\n",
    "    for i in zip([char_to_ind[c[0]] for c in sequence], range(len(sequence))):\n",
    "        # Set cell corresponding to character to one\n",
    "        M[0,i[1]] = i[0]\n",
    "    # Return finished one-hot encoding\n",
    "    return M"
   ]
  },
  {
   "cell_type": "code",
   "execution_count": 21,
   "metadata": {
    "collapsed": false,
    "scrolled": true
   },
   "outputs": [
    {
     "name": "stdout",
     "output_type": "stream",
     "text": [
      "\n",
      "Skipped:  420\n"
     ]
    }
   ],
   "source": [
    "test_matrix = np.zeros((num_test-420, 6, 39178))\n",
    "test_matrix_nohot = np.zeros((num_test-420, 1, 39178))\n",
    "test_samples_idx = []\n",
    "c=0\n",
    "i = 0\n",
    "key_list = list(test_samples.keys())\n",
    "for name in key_list:\n",
    "    try:\n",
    "        test_samples_idx.append(name)\n",
    "        test_matrix[i,:,:] = seq_one_hot(test_samples[name], characters=['a', 'c', 'g', 't', '-', 'n'])\n",
    "        test_matrix_nohot[i,:,:] = seq_no_hot(test_samples[name], characters=['a', 'c', 'g', 't', '-', 'n'])\n",
    "        i=i+1\n",
    "    except:\n",
    "        c = c+1\n",
    "        #print(\"Passing sample\", name)\n",
    "print(\"\\nSkipped: \", c)"
   ]
  },
  {
   "cell_type": "code",
   "execution_count": 22,
   "metadata": {
    "collapsed": false
   },
   "outputs": [
    {
     "data": {
      "text/plain": [
       "array([[ 4.,  4.,  4.,  4.,  4.,  4.,  4.,  4.,  4.,  4.,  4.,  4.,  4.,\n",
       "         4.,  4.,  4.,  2.,  0.,  1.,  1.,  3.,  3.,  1.,  3.,  0.,  2.,\n",
       "         1.,  0.,  1.,  2.,  3.,  2.,  1.,  3.,  4.,  4.,  4.,  4.,  4.,\n",
       "         4.,  4.,  4.,  4.,  4.,  4.,  4.,  4.,  4.,  4.,  4.]])"
      ]
     },
     "execution_count": 22,
     "metadata": {},
     "output_type": "execute_result"
    }
   ],
   "source": [
    "test_matrix_nohot[2,:,2000:2050]"
   ]
  },
  {
   "cell_type": "code",
   "execution_count": 25,
   "metadata": {
    "collapsed": false
   },
   "outputs": [
    {
     "data": {
      "text/plain": [
       "array([ 0.,  0.,  0.,  0.,  0.,  0.,  0.,  0.,  0.,  0.,  0.,  0.,  0.,\n",
       "        0.,  0.,  0.,  0.,  1.,  0.,  0.,  0.,  0.,  0.,  0.,  1.,  0.,\n",
       "        0.,  1.,  0.,  0.,  0.,  0.,  0.,  0.,  0.,  0.,  0.,  0.,  0.,\n",
       "        0.,  0.,  0.,  0.,  0.,  0.,  0.,  0.,  0.,  0.,  0.])"
      ]
     },
     "execution_count": 25,
     "metadata": {},
     "output_type": "execute_result"
    }
   ],
   "source": [
    "test_matrix[2,0,2000:2050]"
   ]
  },
  {
   "cell_type": "code",
   "execution_count": 30,
   "metadata": {
    "collapsed": false
   },
   "outputs": [],
   "source": [
    "test_matrix = test_matrix.astype(int)\n",
    "np.save('data/temporal_test_mat_nohot_20000_12000.npy', test_matrix_nohot[:,:,2000:12000])\n",
    "np.save('data/temporal_test_mat.npy_20000_12000', test_matrix[:,:,2000:12000])\n",
    "np.save('data/temporal_test_ids.npy_20000_12000', np.array(test_samples_idx))"
   ]
  },
  {
   "cell_type": "code",
   "execution_count": 26,
   "metadata": {
    "collapsed": true
   },
   "outputs": [],
   "source": [
    "np.save('data/temporal_test_mat_nohot.npy', test_matrix_nohot[:,:,2000:7000])"
   ]
  },
  {
   "cell_type": "code",
   "execution_count": 28,
   "metadata": {
    "collapsed": false,
    "scrolled": true
   },
   "outputs": [
    {
     "name": "stdout",
     "output_type": "stream",
     "text": [
      "\n",
      "Skipped:  1079\n"
     ]
    }
   ],
   "source": [
    "train_matrix = np.zeros((num_training-1079, 6, 39178))\n",
    "train_matrix_nohot = np.zeros((num_training-1079, 1, 39178))\n",
    "train_samples_idx = []\n",
    "c=0\n",
    "i = 0\n",
    "key_list = list(train_samples.keys())\n",
    "for name in key_list:\n",
    "    try:\n",
    "        train_samples_idx.append(name)\n",
    "        train_matrix[i,:,:] = seq_one_hot(train_samples[name], characters=['a', 'c', 'g', 't', '-', 'n'])\n",
    "        train_matrix_nohot[i,:,:] = seq_no_hot(train_samples[name], characters=['a', 'c', 'g', 't', '-', 'n'])\n",
    "        i=i+1\n",
    "    except:\n",
    "        c = c+1\n",
    "        #print(\"Passing sample\", name)\n",
    "print(\"\\nSkipped: \", c)"
   ]
  },
  {
   "cell_type": "code",
   "execution_count": 31,
   "metadata": {
    "collapsed": false
   },
   "outputs": [],
   "source": [
    "train_matrix = train_matrix.astype(int)\n",
    "np.save('data/temporal_train_mat_nohot_20000_12000.npy', train_matrix_nohot[:,:,2000:12000])\n",
    "np.save('data/temporal_train_mat.npy_20000_12000', train_matrix[:,:,2000:12000])\n",
    "np.save('data/temporal_train_ids.npy_20000_12000', np.array(train_samples_idx))"
   ]
  },
  {
   "cell_type": "code",
   "execution_count": 17,
   "metadata": {
    "collapsed": false
   },
   "outputs": [
    {
     "data": {
      "image/png": "[encoded data removed]",
      "text/plain": [
       "<matplotlib.figure.Figure at 0x1224368d0>"
      ]
     },
     "metadata": {},
     "output_type": "display_data"
    }
   ],
   "source": [
    "import matplotlib.pyplot as plt\n",
    "%matplotlib inline\n",
    "\n",
    "plt.figure(figsize=(20,5))\n",
    "plt.imshow(train_matrix[0,:,2000:2050], interpolation='nearest')\n",
    "plt.show()"
   ]
  },
  {
   "cell_type": "code",
   "execution_count": null,
   "metadata": {
    "collapsed": true
   },
   "outputs": [],
   "source": []
  },
  {
   "cell_type": "code",
   "execution_count": null,
   "metadata": {
    "collapsed": true
   },
   "outputs": [],
   "source": []
  },
  {
   "cell_type": "code",
   "execution_count": null,
   "metadata": {
    "collapsed": true
   },
   "outputs": [],
   "source": []
  }
 ],
 "metadata": {
  "kernelspec": {
   "display_name": "Python 3",
   "language": "python",
   "name": "python3"
  },
  "language_info": {
   "codemirror_mode": {
    "name": "ipython",
    "version": 3
   },
   "file_extension": ".py",
   "mimetype": "text/x-python",
   "name": "python",
   "nbconvert_exporter": "python",
   "pygments_lexer": "ipython3",
   "version": "3.5.4"
  }
 },
 "nbformat": 4,
 "nbformat_minor": 2
}
